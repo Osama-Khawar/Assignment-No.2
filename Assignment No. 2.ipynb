{
 "cells": [
  {
   "cell_type": "markdown",
   "id": "e2e2dc7e",
   "metadata": {},
   "source": [
    "## Python String Concatenation and Formatting Assignments**\n",
    "\n",
    "**Assignment 1: String Concatenation and Formatting**\n",
    "1. Create a variable `name` and assign your name to it.\n",
    "2. Create a variable `age` and assign your age to it.\n",
    "3. Create a variable `country` and assign your country of residence to it.\n",
    "4. Using the `+` operator, concatenate the variables to form a sentence in the following format: \"My name is `<name>`, I am `<age>` years old, and I live in `<country>`.\"\n",
    "5. Print the concatenated sentence."
   ]
  },
  {
   "cell_type": "code",
   "execution_count": 1,
   "id": "06b31979",
   "metadata": {},
   "outputs": [
    {
     "name": "stdout",
     "output_type": "stream",
     "text": [
      "My name is Muhammad Osama Khawar,I am 30 year old,and I live in Pakistan\n"
     ]
    }
   ],
   "source": [
    "name=\"Muhammad Osama Khawar\"\n",
    "age= \"30\"\n",
    "Country=\"Pakistan\"\n",
    "date=\"My name is \" + name +\",I am \" + age +\" year old\" + \",and I live in \"+ Country\n",
    "print(date)"
   ]
  },
  {
   "cell_type": "markdown",
   "id": "1804ae3b",
   "metadata": {},
   "source": [
    "### Assignment 2: String Formatting using `.format()`\n",
    "\n",
    "**Instructions:**\n",
    "\n",
    "1. Create a variable `item` and assign a product name to it (e.g., \"laptop\", \"book\", \"phone\").\n",
    "2. Create a variable `price` and assign a price to the item.\n",
    "3. Create a variable `quantity` and assign a quantity value.\n",
    "4. Calculate the total cost using the formula: `total_cost = price * quantity`.\n",
    "5. Using the `.format()` method, create a formatted string: \"I bought `<quantity>` `<item>`(s) at `<price>` each, for a total of $`<total_cost>`.\"\n",
    "6. Print the formatted string."
   ]
  },
  {
   "cell_type": "code",
   "execution_count": 2,
   "id": "a832ee9f",
   "metadata": {},
   "outputs": [
    {
     "name": "stdout",
     "output_type": "stream",
     "text": [
      "I bought 20 book(s) at 200 each for the Total of $ 4000.\n"
     ]
    }
   ],
   "source": [
    "item=\"book\"\n",
    "price=200\n",
    "quantity=20\n",
    "Total_cost= price*quantity\n",
    "Formatted_string=\"\"\"I bought {2} {0}(s) at {1} each for the Total of $ {3}.\"\"\".format(item,price,quantity,Total_cost)\n",
    "print(Formatted_string)\n"
   ]
  },
  {
   "cell_type": "markdown",
   "id": "e1419de4",
   "metadata": {},
   "source": [
    "# **Assignment 3: String Interpolation using `f''`\n",
    "\n",
    "**Instructions:**\n",
    "\n",
    "1. Create a variable `city` and assign the name of a city.\n",
    "2. Create a variable `temperature` and assign a temperature value in Celsius.\n",
    "3. Using `f''` string interpolation, create a string: \"The temperature in `<city>` is `<temperature>`°C.\"\n",
    "4. Print the interpolated string.\n"
   ]
  },
  {
   "cell_type": "code",
   "execution_count": 70,
   "id": "42098175",
   "metadata": {},
   "outputs": [
    {
     "name": "stdout",
     "output_type": "stream",
     "text": [
      "The Temperature in Islamabad is 30°C.\n"
     ]
    }
   ],
   "source": [
    "city=\"Islamabad\"\n",
    "Temperature=\"30°C\"\n",
    "String=f\"\"\"The Temperature in {city} is {Temperature}.\"\"\"\n",
    "print(String)"
   ]
  },
  {
   "cell_type": "markdown",
   "id": "4d6da774",
   "metadata": {},
   "source": [
    "\n",
    "# **Assignment 4: String Formatting using `%()`\n",
    "\n",
    "**Instructions:**\n",
    "\n",
    "1. Create a variable `first_name` and assign your first name to it.\n",
    "2. Create a variable `last_name` and assign your last name to it.\n",
    "3. Create a variable `birth_year` and assign your birth year.\n",
    "4. Calculate your age using the formula: `age = current_year - birth_year`, where `current_year` is the current year.\n",
    "5. Using `%()` string formatting, create a string: \"My name is %(first_name)s %(last_name)s. I am %(age)d years old.\"\n",
    "6. Print the formatted string.\n"
   ]
  },
  {
   "cell_type": "code",
   "execution_count": 61,
   "id": "ee026e59",
   "metadata": {},
   "outputs": [
    {
     "data": {
      "text/plain": [
       "'My name is Osama Khawar. I am 31 years old.'"
      ]
     },
     "execution_count": 61,
     "metadata": {},
     "output_type": "execute_result"
    }
   ],
   "source": [
    "first_name=\"Osama\"\n",
    "last_name=\"Khawar\"\n",
    "birth_year=1992\n",
    "current_year=2023\n",
    "age=current_year-birth_year\n",
    "\"My name is %s %s. I am %d years old.\" %(first_name,last_name,age) \n",
    "\n"
   ]
  },
  {
   "cell_type": "markdown",
   "id": "e6fef86e",
   "metadata": {},
   "source": [
    "# **Assignment 5: Combining Formatting Methods**\n",
    "\n",
    "**Instructions:**\n",
    "\n",
    "1. Create a variable `product` and assign a product name.\n",
    "2. Create a variable `discount` and assign a discount percentage.\n",
    "3. Create a variable `original_price` and assign an original price.\n",
    "4. Calculate the discounted price using the formula: `discounted_price = original_price * (1 - discount / 100)`.\n",
    "5. Using any combination of string formatting methods (`+`, `.format()`, `f''`, `%()`), create a descriptive string with the product name, original price, discount percentage, and discounted price.\n",
    "6. Print the descriptive string."
   ]
  },
  {
   "cell_type": "code",
   "execution_count": 14,
   "id": "34d7e71e",
   "metadata": {},
   "outputs": [
    {
     "name": "stdout",
     "output_type": "stream",
     "text": [
      "product name:\t\tCycle\n",
      "Original_price\t\t33000 pkr\n",
      "discount:\t\t0.25\n",
      "discounted_price\t32917.5 pkr\n"
     ]
    }
   ],
   "source": [
    "product=\"Cycle\"\n",
    "discount=0.25 \n",
    "Original_price=33000 \n",
    "discounted_price = Original_price * (1 - discount / 100)\n",
    "price=\"product name:\\t\\t\"+ product +\"\\nOriginal_price\\t\\t\"+\\\n",
    "str(Original_price)+ ' pkr'+\"\\ndiscount:\\t\\t\" + str(discount)+\\\n",
    "\"\\ndiscounted_price\\t\"+ str(discounted_price) + ' pkr'\n",
    "\n",
    "print(price)"
   ]
  }
 ],
 "metadata": {
  "kernelspec": {
   "display_name": "Python 3 (ipykernel)",
   "language": "python",
   "name": "python3"
  },
  "language_info": {
   "codemirror_mode": {
    "name": "ipython",
    "version": 3
   },
   "file_extension": ".py",
   "mimetype": "text/x-python",
   "name": "python",
   "nbconvert_exporter": "python",
   "pygments_lexer": "ipython3",
   "version": "3.11.3"
  }
 },
 "nbformat": 4,
 "nbformat_minor": 5
}
